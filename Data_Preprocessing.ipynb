{
  "cells": [
    {
      "cell_type": "code",
      "execution_count": null,
      "metadata": {
        "id": "ZYFGdZ9xyN3Y"
      },
      "outputs": [],
      "source": [
        "%%capture\n",
        "!pip install opendatasets\n",
        "!pip install imutils\n",
        "!pip install facenet_pytorch"
      ]
    },
    {
      "cell_type": "code",
      "execution_count": null,
      "metadata": {
        "id": "R2xnISBGyDiG"
      },
      "outputs": [],
      "source": [
        "import opendatasets as od\n",
        "import zipfile, urllib.request, shutil, requests\n",
        "import numpy as np\n",
        "import pandas as pd\n",
        "import os\n",
        "from pathlib import Path\n",
        "import IPython\n",
        "import cv2\n",
        "import matplotlib.pyplot as plt\n",
        "import matplotlib.cbook as cbook\n",
        "import matplotlib.image as image\n",
        "from tqdm import tqdm\n",
        "from tqdm.notebook import tqdm\n",
        "tqdm.pandas()\n",
        "import glob\n",
        "from PIL import Image\n",
        "from imutils.video import FileVideoStream\n",
        "import time\n",
        "import torch\n",
        "from facenet_pytorch import MTCNN\n",
        "import warnings\n",
        "warnings.filterwarnings(\"ignore\", category=FutureWarning)"
      ]
    },
    {
      "cell_type": "code",
      "execution_count": null,
      "metadata": {
        "id": "67OtUw2tyRqH"
      },
      "outputs": [],
      "source": [
        "os.mkdir('/content/data')\n",
        "os.mkdir('/content/train')"
      ]
    },
    {
      "cell_type": "code",
      "execution_count": null,
      "metadata": {
        "id": "Tg5iOZawyTce"
      },
      "outputs": [],
      "source": [
        "#links of the data parts to be downlaoded\n",
        "parts = [\"\",\n",
        "         \"\"\n",
        "    ]"
      ]
    },
    {
      "cell_type": "code",
      "execution_count": null,
      "metadata": {
        "id": "L68ybrhu3ovv"
      },
      "outputs": [],
      "source": [
        "#Donwload each part and save it in the files\n",
        "for ind , part in enumerate(parts):\n",
        "    response = requests.get(part, stream=True)\n",
        "    with open(f'{ind}.zip', \"wb\") as f:\n",
        "        for chunk in response.iter_content(chunk_size=1024):\n",
        "            if chunk:  # filter out keep-alive new chunks\n",
        "                f.write(chunk)"
      ]
    },
    {
      "cell_type": "code",
      "execution_count": null,
      "metadata": {
        "id": "zh7jjJEe3-dY"
      },
      "outputs": [],
      "source": [
        "#Extract the files from the downloaded parts then delete each part after extracing to save storage \n",
        "for ind in range(len(parts)):\n",
        "    f = f\"/content/{ind}.zip\"\n",
        "    with zipfile.ZipFile(f, 'r') as zip_ref:\n",
        "        zip_ref.extractall(\"/content/data\")\n",
        "    os.remove(f)"
      ]
    },
    {
      "cell_type": "code",
      "execution_count": null,
      "metadata": {
        "id": "Rh7lFeJDrApu"
      },
      "outputs": [],
      "source": [
        "class FastMTCNN(object):\n",
        "    \"\"\"Fast MTCNN implementation.\"\"\"\n",
        "    \n",
        "    def __init__(self, stride, resize=1, *args, **kwargs):\n",
        "        \"\"\"Constructor for FastMTCNN class.\n",
        "        \n",
        "        Arguments:\n",
        "            stride (int): The detection stride. Faces will be detected every `stride` frames\n",
        "                and remembered for `stride-1` frames.\n",
        "        \n",
        "        Keyword arguments:\n",
        "            resize (float): Fractional frame scaling. [default: {1}]\n",
        "            *args: Arguments to pass to the MTCNN constructor. See help(MTCNN).\n",
        "            **kwargs: Keyword arguments to pass to the MTCNN constructor. See help(MTCNN).\n",
        "        \"\"\"\n",
        "        self.stride = stride\n",
        "        self.resize = resize\n",
        "        self.mtcnn = MTCNN(*args, **kwargs)\n",
        "        \n",
        "    def __call__(self, frames):\n",
        "        \"\"\"Detect faces in frames using strided MTCNN.\"\"\"\n",
        "        if self.resize != 1:\n",
        "            frames = [\n",
        "                cv2.resize(f, (int(f.shape[1] * self.resize), int(f.shape[0] * self.resize)))\n",
        "                    for f in frames\n",
        "            ]\n",
        "                      \n",
        "        boxes, probs = self.mtcnn.detect(frames[::self.stride])\n",
        "        faces = []\n",
        "        for i, frame in enumerate(frames):\n",
        "            box_ind = int(i / self.stride)\n",
        "            if boxes[box_ind] is None:\n",
        "                continue\n",
        "            for box in boxes[box_ind]:\n",
        "                box = [int(b) for b in box]\n",
        "                faces.append(frame[box[1]:box[3], box[0]:box[2]])\n",
        "        return faces"
      ]
    },
    {
      "cell_type": "code",
      "execution_count": null,
      "metadata": {
        "id": "V4K8ulo3sJt-"
      },
      "outputs": [],
      "source": [
        "device = 'cuda' if torch.cuda.is_available() else 'cpu'\n",
        "fast_mtcnn = FastMTCNN(\n",
        "stride=4,\n",
        "resize=0.5,\n",
        "margin=50,\n",
        "factor=0.6,\n",
        "keep_all=True,\n",
        "device=device,\n",
        "min_face_size = 60\n",
        ")"
      ]
    },
    {
      "cell_type": "code",
      "execution_count": null,
      "metadata": {
        "id": "IEKSXV4fsZeX"
      },
      "outputs": [],
      "source": [
        "def save_vid(frame_array,filename):\n",
        "    if len(frame_array) < 60:\n",
        "        pass\n",
        "    frames = 0\n",
        "    fourcc = cv2.VideoWriter_fourcc('m', 'p', '4', 'v')\n",
        "    out = cv2.VideoWriter('/content/train/'+os.path.basename(filename),fourcc, 60, (240,240))\n",
        "    for frame in frame_array:\n",
        "        try:\n",
        "            frame = cv2.cvtColor(frame, cv2.COLOR_RGB2BGR)\n",
        "            frame = cv2.resize(frame,(240,240))\n",
        "            out.write(frame)\n",
        "            frames +=1\n",
        "        except: \n",
        "            pass\n",
        "        if frames == 60:\n",
        "            out.release()\n",
        "            break"
      ]
    },
    {
      "cell_type": "code",
      "execution_count": null,
      "metadata": {
        "id": "j0CH7KXUtZ59"
      },
      "outputs": [],
      "source": [
        "def run_detection(fast_mtcnn, filenames):\n",
        "    frames = []\n",
        "    frames_processed = 0\n",
        "    faces_detected = 0\n",
        "    batch_size = 60\n",
        "    start = time.time()\n",
        "    for filename in tqdm(filenames):\n",
        "        v_cap = FileVideoStream(filename).start()\n",
        "       # print(filename)\n",
        "        #print(v_cap.read().shape)\n",
        "        v_len = int(v_cap.stream.get(cv2.CAP_PROP_FRAME_COUNT))\n",
        "        for j in range(min(60,v_len)):\n",
        "            frame = v_cap.read()\n",
        "            frame = cv2.cvtColor(frame, cv2.COLOR_BGR2RGB)\n",
        "            frames.append(frame)\n",
        "            if len(frames) >= batch_size or j == v_len - 1:\n",
        "                faces = fast_mtcnn(frames)\n",
        "                frames_processed += len(frames)\n",
        "                faces_detected += len(faces)\n",
        "                frames = []\n",
        "                print(\n",
        "                    f'Frames per second: {frames_processed / (time.time() - start):.3f},',\n",
        "                    f'faces detected: {faces_detected}\\r',\n",
        "                    end=''\n",
        "                )\n",
        "                save_vid(faces,filename)\n",
        "                \n",
        "        v_cap.stop()"
      ]
    },
    {
      "cell_type": "code",
      "execution_count": null,
      "metadata": {
        "id": "uvhxjxQdoUsJ"
      },
      "outputs": [],
      "source": [
        "f = glob.glob('/content/data/*/*')"
      ]
    },
    {
      "cell_type": "code",
      "execution_count": null,
      "metadata": {
        "colab": {
          "base_uri": "https://localhost:8080/"
        },
        "id": "XxCAPmhxV9DI",
        "outputId": "5b0e0594-5af9-4c9f-9516-0d24af802a88"
      },
      "outputs": [
        {
          "data": {
            "text/plain": [
              "10122"
            ]
          },
          "execution_count": 12,
          "metadata": {},
          "output_type": "execute_result"
        }
      ],
      "source": [
        "len(f)"
      ]
    },
    {
      "cell_type": "code",
      "execution_count": null,
      "metadata": {
        "colab": {
          "base_uri": "https://localhost:8080/",
          "height": 214,
          "referenced_widgets": [
            "91b6eede95444c17af9e9db77df663a3",
            "2f57edff6169453db507ec756333e99c",
            "bf56ddbf199147beae8d2d6a19b7e287",
            "dc564af2483a4f9289732b1025588a15",
            "779597dc435d48438e39e4e7786ce16d",
            "b2df1948d2314fb087800a64a8ae7a38",
            "8306a5fd7fb34bc8aed354cc4794e055",
            "337bd45c1e784eea894ab1915908c811",
            "92fd1a0aa5ca4ad7abd085fb6744a7a6",
            "01c32110879e4dc4b809205f0bb70d77",
            "55b253201d924157a2ddf4a7323014af"
          ]
        },
        "id": "G4-YIOtd6mLN",
        "outputId": "e9eb2f7a-9622-4391-a4e9-77493599f126"
      },
      "outputs": [],
      "source": [
        "run_detection(fast_mtcnn,f)"
      ]
    },
    {
      "cell_type": "code",
      "execution_count": null,
      "metadata": {
        "id": "PsvzOb8_ykN-"
      },
      "outputs": [],
      "source": [
        "shutil.make_archive('/content/cropped', 'zip', '/content/train/')"
      ]
    },
    {
      "cell_type": "code",
      "execution_count": null,
      "metadata": {
        "id": "H67bD2YU_5n3"
      },
      "outputs": [],
      "source": []
    },
    {
      "cell_type": "code",
      "execution_count": null,
      "metadata": {
        "id": "f-thVunDh9Zb"
      },
      "outputs": [],
      "source": []
    },
    {
      "cell_type": "code",
      "execution_count": null,
      "metadata": {
        "id": "DyJJ_GALh9rQ"
      },
      "outputs": [],
      "source": []
    }
  ],
  "metadata": {
    "accelerator": "GPU",
    "colab": {
      "provenance": []
    },
    "gpuClass": "standard",
    "kernelspec": {
      "display_name": "Python 3",
      "name": "python3"
    },
    "language_info": {
      "name": "python"
    },
    "widgets": {
      "application/vnd.jupyter.widget-state+json": {
        "01c32110879e4dc4b809205f0bb70d77": {
          "model_module": "@jupyter-widgets/base",
          "model_module_version": "1.2.0",
          "model_name": "LayoutModel",
          "state": {
            "_model_module": "@jupyter-widgets/base",
            "_model_module_version": "1.2.0",
            "_model_name": "LayoutModel",
            "_view_count": null,
            "_view_module": "@jupyter-widgets/base",
            "_view_module_version": "1.2.0",
            "_view_name": "LayoutView",
            "align_content": null,
            "align_items": null,
            "align_self": null,
            "border": null,
            "bottom": null,
            "display": null,
            "flex": null,
            "flex_flow": null,
            "grid_area": null,
            "grid_auto_columns": null,
            "grid_auto_flow": null,
            "grid_auto_rows": null,
            "grid_column": null,
            "grid_gap": null,
            "grid_row": null,
            "grid_template_areas": null,
            "grid_template_columns": null,
            "grid_template_rows": null,
            "height": null,
            "justify_content": null,
            "justify_items": null,
            "left": null,
            "margin": null,
            "max_height": null,
            "max_width": null,
            "min_height": null,
            "min_width": null,
            "object_fit": null,
            "object_position": null,
            "order": null,
            "overflow": null,
            "overflow_x": null,
            "overflow_y": null,
            "padding": null,
            "right": null,
            "top": null,
            "visibility": null,
            "width": null
          }
        },
        "2f57edff6169453db507ec756333e99c": {
          "model_module": "@jupyter-widgets/controls",
          "model_module_version": "1.5.0",
          "model_name": "HTMLModel",
          "state": {
            "_dom_classes": [],
            "_model_module": "@jupyter-widgets/controls",
            "_model_module_version": "1.5.0",
            "_model_name": "HTMLModel",
            "_view_count": null,
            "_view_module": "@jupyter-widgets/controls",
            "_view_module_version": "1.5.0",
            "_view_name": "HTMLView",
            "description": "",
            "description_tooltip": null,
            "layout": "IPY_MODEL_b2df1948d2314fb087800a64a8ae7a38",
            "placeholder": "​",
            "style": "IPY_MODEL_8306a5fd7fb34bc8aed354cc4794e055",
            "value": " 78%"
          }
        },
        "337bd45c1e784eea894ab1915908c811": {
          "model_module": "@jupyter-widgets/base",
          "model_module_version": "1.2.0",
          "model_name": "LayoutModel",
          "state": {
            "_model_module": "@jupyter-widgets/base",
            "_model_module_version": "1.2.0",
            "_model_name": "LayoutModel",
            "_view_count": null,
            "_view_module": "@jupyter-widgets/base",
            "_view_module_version": "1.2.0",
            "_view_name": "LayoutView",
            "align_content": null,
            "align_items": null,
            "align_self": null,
            "border": null,
            "bottom": null,
            "display": null,
            "flex": null,
            "flex_flow": null,
            "grid_area": null,
            "grid_auto_columns": null,
            "grid_auto_flow": null,
            "grid_auto_rows": null,
            "grid_column": null,
            "grid_gap": null,
            "grid_row": null,
            "grid_template_areas": null,
            "grid_template_columns": null,
            "grid_template_rows": null,
            "height": null,
            "justify_content": null,
            "justify_items": null,
            "left": null,
            "margin": null,
            "max_height": null,
            "max_width": null,
            "min_height": null,
            "min_width": null,
            "object_fit": null,
            "object_position": null,
            "order": null,
            "overflow": null,
            "overflow_x": null,
            "overflow_y": null,
            "padding": null,
            "right": null,
            "top": null,
            "visibility": null,
            "width": null
          }
        },
        "55b253201d924157a2ddf4a7323014af": {
          "model_module": "@jupyter-widgets/controls",
          "model_module_version": "1.5.0",
          "model_name": "DescriptionStyleModel",
          "state": {
            "_model_module": "@jupyter-widgets/controls",
            "_model_module_version": "1.5.0",
            "_model_name": "DescriptionStyleModel",
            "_view_count": null,
            "_view_module": "@jupyter-widgets/base",
            "_view_module_version": "1.2.0",
            "_view_name": "StyleView",
            "description_width": ""
          }
        },
        "779597dc435d48438e39e4e7786ce16d": {
          "model_module": "@jupyter-widgets/base",
          "model_module_version": "1.2.0",
          "model_name": "LayoutModel",
          "state": {
            "_model_module": "@jupyter-widgets/base",
            "_model_module_version": "1.2.0",
            "_model_name": "LayoutModel",
            "_view_count": null,
            "_view_module": "@jupyter-widgets/base",
            "_view_module_version": "1.2.0",
            "_view_name": "LayoutView",
            "align_content": null,
            "align_items": null,
            "align_self": null,
            "border": null,
            "bottom": null,
            "display": null,
            "flex": null,
            "flex_flow": null,
            "grid_area": null,
            "grid_auto_columns": null,
            "grid_auto_flow": null,
            "grid_auto_rows": null,
            "grid_column": null,
            "grid_gap": null,
            "grid_row": null,
            "grid_template_areas": null,
            "grid_template_columns": null,
            "grid_template_rows": null,
            "height": null,
            "justify_content": null,
            "justify_items": null,
            "left": null,
            "margin": null,
            "max_height": null,
            "max_width": null,
            "min_height": null,
            "min_width": null,
            "object_fit": null,
            "object_position": null,
            "order": null,
            "overflow": null,
            "overflow_x": null,
            "overflow_y": null,
            "padding": null,
            "right": null,
            "top": null,
            "visibility": null,
            "width": null
          }
        },
        "8306a5fd7fb34bc8aed354cc4794e055": {
          "model_module": "@jupyter-widgets/controls",
          "model_module_version": "1.5.0",
          "model_name": "DescriptionStyleModel",
          "state": {
            "_model_module": "@jupyter-widgets/controls",
            "_model_module_version": "1.5.0",
            "_model_name": "DescriptionStyleModel",
            "_view_count": null,
            "_view_module": "@jupyter-widgets/base",
            "_view_module_version": "1.2.0",
            "_view_name": "StyleView",
            "description_width": ""
          }
        },
        "91b6eede95444c17af9e9db77df663a3": {
          "model_module": "@jupyter-widgets/controls",
          "model_module_version": "1.5.0",
          "model_name": "HBoxModel",
          "state": {
            "_dom_classes": [],
            "_model_module": "@jupyter-widgets/controls",
            "_model_module_version": "1.5.0",
            "_model_name": "HBoxModel",
            "_view_count": null,
            "_view_module": "@jupyter-widgets/controls",
            "_view_module_version": "1.5.0",
            "_view_name": "HBoxView",
            "box_style": "",
            "children": [
              "IPY_MODEL_2f57edff6169453db507ec756333e99c",
              "IPY_MODEL_bf56ddbf199147beae8d2d6a19b7e287",
              "IPY_MODEL_dc564af2483a4f9289732b1025588a15"
            ],
            "layout": "IPY_MODEL_779597dc435d48438e39e4e7786ce16d"
          }
        },
        "92fd1a0aa5ca4ad7abd085fb6744a7a6": {
          "model_module": "@jupyter-widgets/controls",
          "model_module_version": "1.5.0",
          "model_name": "ProgressStyleModel",
          "state": {
            "_model_module": "@jupyter-widgets/controls",
            "_model_module_version": "1.5.0",
            "_model_name": "ProgressStyleModel",
            "_view_count": null,
            "_view_module": "@jupyter-widgets/base",
            "_view_module_version": "1.2.0",
            "_view_name": "StyleView",
            "bar_color": null,
            "description_width": ""
          }
        },
        "b2df1948d2314fb087800a64a8ae7a38": {
          "model_module": "@jupyter-widgets/base",
          "model_module_version": "1.2.0",
          "model_name": "LayoutModel",
          "state": {
            "_model_module": "@jupyter-widgets/base",
            "_model_module_version": "1.2.0",
            "_model_name": "LayoutModel",
            "_view_count": null,
            "_view_module": "@jupyter-widgets/base",
            "_view_module_version": "1.2.0",
            "_view_name": "LayoutView",
            "align_content": null,
            "align_items": null,
            "align_self": null,
            "border": null,
            "bottom": null,
            "display": null,
            "flex": null,
            "flex_flow": null,
            "grid_area": null,
            "grid_auto_columns": null,
            "grid_auto_flow": null,
            "grid_auto_rows": null,
            "grid_column": null,
            "grid_gap": null,
            "grid_row": null,
            "grid_template_areas": null,
            "grid_template_columns": null,
            "grid_template_rows": null,
            "height": null,
            "justify_content": null,
            "justify_items": null,
            "left": null,
            "margin": null,
            "max_height": null,
            "max_width": null,
            "min_height": null,
            "min_width": null,
            "object_fit": null,
            "object_position": null,
            "order": null,
            "overflow": null,
            "overflow_x": null,
            "overflow_y": null,
            "padding": null,
            "right": null,
            "top": null,
            "visibility": null,
            "width": null
          }
        },
        "bf56ddbf199147beae8d2d6a19b7e287": {
          "model_module": "@jupyter-widgets/controls",
          "model_module_version": "1.5.0",
          "model_name": "FloatProgressModel",
          "state": {
            "_dom_classes": [],
            "_model_module": "@jupyter-widgets/controls",
            "_model_module_version": "1.5.0",
            "_model_name": "FloatProgressModel",
            "_view_count": null,
            "_view_module": "@jupyter-widgets/controls",
            "_view_module_version": "1.5.0",
            "_view_name": "ProgressView",
            "bar_style": "",
            "description": "",
            "description_tooltip": null,
            "layout": "IPY_MODEL_337bd45c1e784eea894ab1915908c811",
            "max": 10122,
            "min": 0,
            "orientation": "horizontal",
            "style": "IPY_MODEL_92fd1a0aa5ca4ad7abd085fb6744a7a6",
            "value": 7912
          }
        },
        "dc564af2483a4f9289732b1025588a15": {
          "model_module": "@jupyter-widgets/controls",
          "model_module_version": "1.5.0",
          "model_name": "HTMLModel",
          "state": {
            "_dom_classes": [],
            "_model_module": "@jupyter-widgets/controls",
            "_model_module_version": "1.5.0",
            "_model_name": "HTMLModel",
            "_view_count": null,
            "_view_module": "@jupyter-widgets/controls",
            "_view_module_version": "1.5.0",
            "_view_name": "HTMLView",
            "description": "",
            "description_tooltip": null,
            "layout": "IPY_MODEL_01c32110879e4dc4b809205f0bb70d77",
            "placeholder": "​",
            "style": "IPY_MODEL_55b253201d924157a2ddf4a7323014af",
            "value": " 7912/10122 [2:20:43&lt;44:18,  1.20s/it]"
          }
        }
      }
    }
  },
  "nbformat": 4,
  "nbformat_minor": 0
}
